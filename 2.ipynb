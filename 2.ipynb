{
 "cells": [
  {
   "cell_type": "code",
   "execution_count": 1,
   "metadata": {},
   "outputs": [],
   "source": [
    "from typing import List, Tuple, Dict\n",
    "from nptyping import NDArray, Object, Int32\n"
   ]
  },
  {
   "cell_type": "code",
   "execution_count": 2,
   "metadata": {},
   "outputs": [
    {
     "name": "stdout",
     "output_type": "stream",
     "text": [
      "you say goodbye and i say hello .\n"
     ]
    }
   ],
   "source": [
    "text = \"You say goodbye and I say hello.\"\n",
    "# 全ての文字を小文字に変換\n",
    "text = text.lower()\n",
    "# 文末のピリオドにスペースを加える。分割しやすいように。\n",
    "text = text.replace(\".\", \" .\")\n",
    "print(text)\n"
   ]
  },
  {
   "cell_type": "code",
   "execution_count": 3,
   "metadata": {},
   "outputs": [
    {
     "name": "stdout",
     "output_type": "stream",
     "text": [
      "['you', 'say', 'goodbye', 'and', 'i', 'say', 'hello', '.']\n"
     ]
    }
   ],
   "source": [
    "# 文章をスペース単位で区切って単語の集合にする\n",
    "words = text.split(\" \")\n",
    "print(words)\n"
   ]
  },
  {
   "cell_type": "code",
   "execution_count": 4,
   "metadata": {},
   "outputs": [],
   "source": [
    "# 単語にIDを振って扱いやすい形にする\n",
    "word_to_id = {}\n",
    "id_to_word = {}\n",
    "\n",
    "for word in words:\n",
    "    if word not in word_to_id:\n",
    "        new_id = len(word_to_id)\n",
    "        word_to_id[word] = new_id\n",
    "        id_to_word[new_id] = word\n"
   ]
  },
  {
   "cell_type": "code",
   "execution_count": 5,
   "metadata": {},
   "outputs": [
    {
     "name": "stdout",
     "output_type": "stream",
     "text": [
      "{'you': 0, 'say': 1, 'goodbye': 2, 'and': 3, 'i': 4, 'hello': 5, '.': 6}\n",
      "{0: 'you', 1: 'say', 2: 'goodbye', 3: 'and', 4: 'i', 5: 'hello', 6: '.'}\n"
     ]
    }
   ],
   "source": [
    "print(word_to_id)\n",
    "print(id_to_word)\n"
   ]
  },
  {
   "cell_type": "code",
   "execution_count": 6,
   "metadata": {},
   "outputs": [
    {
     "name": "stdout",
     "output_type": "stream",
     "text": [
      "[0 1 2 3 4 1 5 6]\n",
      "{0: 'you', 1: 'say', 2: 'goodbye', 3: 'and', 4: 'i', 5: 'hello', 6: '.'}\n"
     ]
    }
   ],
   "source": [
    "import sys\n",
    "\n",
    "sys.path.append(\"..\")\n",
    "import numpy as np\n",
    "from common.util import preprocess\n",
    "\n",
    "text = \"You say goodbye and I say hello.\"\n",
    "cropus, world_to_id, id_to_word = preprocess(text)\n",
    "print(cropus)\n",
    "print(id_to_word)\n"
   ]
  },
  {
   "cell_type": "code",
   "execution_count": 7,
   "metadata": {},
   "outputs": [],
   "source": [
    "C = np.array(\n",
    "    [\n",
    "        [0, 1, 0, 0, 0, 0, 0],\n",
    "        [1, 0, 1, 0, 1, 1, 0],\n",
    "        [0, 1, 0, 1, 0, 0, 0],\n",
    "        [0, 0, 1, 0, 1, 0, 0],\n",
    "        [0, 1, 0, 1, 0, 0, 0],\n",
    "        [0, 1, 0, 0, 0, 0, 1],\n",
    "        [0, 0, 0, 0, 0, 1, 0],\n",
    "    ],\n",
    "    dtype=np.int32,\n",
    ")\n"
   ]
  },
  {
   "cell_type": "code",
   "execution_count": 8,
   "metadata": {},
   "outputs": [],
   "source": [
    "def create_co_matrix(corpus: List, vocab_size: int, window_size: int = 1) -> NDArray:\n",
    "    \"\"\"共起行列の作成\n",
    "\n",
    "    Args:\n",
    "        corpus (List): 単語IDのリスト\n",
    "        vocab_size (int): 語彙数\n",
    "        window_size (int, optional): ウィンドウサイズ. Defaults to 1.\n",
    "\n",
    "    Returns:\n",
    "        NDArray: 共起行列\n",
    "    \"\"\"\n",
    "    corpus_size: int = len(corpus)\n",
    "    co_matrix: NDArray = np.zeros((vocab_size, vocab_size), dtype=np.int32)\n",
    "    for idx, word_id in enumerate(corpus):\n",
    "        for i in range(1, window_size + 1):\n",
    "            # 注目単語の左隣\n",
    "            left_idx: int = idx - i\n",
    "            # 注目単語の右隣り\n",
    "            right_idx: int = idx + i\n",
    "\n",
    "            # コーパスの左端をはみ出していないか\n",
    "            if left_idx >= 0:\n",
    "                left_word_id = corpus[left_idx]\n",
    "                co_matrix[word_id, left_word_id] += 1\n",
    "            # コーパスの右端をはみ出していないか\n",
    "            if right_idx < corpus_size:\n",
    "                right_word_id = corpus[right_idx]\n",
    "                co_matrix[word_id, right_word_id] += 1\n",
    "\n",
    "    return co_matrix\n"
   ]
  },
  {
   "cell_type": "code",
   "execution_count": 9,
   "metadata": {},
   "outputs": [],
   "source": [
    "def cos_similarity(x: NDArray, y: NDArray, eps: float = 1e-8) -> float:\n",
    "    \"\"\"コサイン類似度\n",
    "\n",
    "    Args:\n",
    "        x (NDArray): ベクトルx\n",
    "        y (NDArray): ベクトルy\n",
    "        eps (float, optional): ゼロ除算を防止する定数. Defaults to 1e-8.\n",
    "\n",
    "    Returns:\n",
    "        float: コサイン類似度\n",
    "    \"\"\"\n",
    "    nx = x / (np.sqrt(np.sum(x**2)) + eps)  # xの正規化\n",
    "    ny = y / (np.sqrt(np.sum(y**2)) + eps)  # yの正規化\n",
    "    return np.dot(nx, ny)\n"
   ]
  },
  {
   "cell_type": "code",
   "execution_count": 10,
   "metadata": {},
   "outputs": [
    {
     "name": "stdout",
     "output_type": "stream",
     "text": [
      "0.7071067691154799\n"
     ]
    }
   ],
   "source": [
    "from common.util import preprocess, create_co_matrix, cos_similarity\n",
    "\n",
    "text = \"You say goodbye and I say hello.\"\n",
    "corpus, word_to_id, id_to_word = preprocess(text)\n",
    "vocab_size = len(word_to_id)\n",
    "C = create_co_matrix(corpus, vocab_size)\n",
    "\n",
    "c0 = C[word_to_id[\"you\"]]\n",
    "c1 = C[word_to_id[\"i\"]]\n",
    "print(cos_similarity(c0, c1))\n"
   ]
  },
  {
   "cell_type": "markdown",
   "metadata": {},
   "source": [
    "上記の結果から、youとiのコサイン類似度は0.7という結果になった。比較的類似性が高い。"
   ]
  },
  {
   "cell_type": "code",
   "execution_count": 11,
   "metadata": {},
   "outputs": [],
   "source": [
    "def most_similar(query, word_to_id, id_to_word, word_matrix, top=5):\n",
    "    \"\"\"類似単語のランキングを表示\n",
    "\n",
    "    Args:\n",
    "        query (_type_): クエリ(単語)\n",
    "        word_to_id (_type_): _description_\n",
    "        id_to_word (_type_): _description_\n",
    "        word_matrix (_type_): 単語ベクトルをまとめた行列\n",
    "        top (int, optional): 上位何位まで表示するか. Defaults to 5.\n",
    "    \"\"\"\n",
    "    # クエリを取り出す\n",
    "    if query not in word_to_id:\n",
    "        print(\"%s is not found\" % query)\n",
    "        return\n",
    "    print(\"\\n[query] \" + query)\n",
    "    query_id = word_to_id[query]\n",
    "    query_vec = word_matrix[query_id]\n",
    "\n",
    "    # コサイン類似度\n",
    "    vocab_size = len(id_to_word)\n",
    "    similarity = np.zeros(vocab_size)\n",
    "    for i in range(vocab_size):\n",
    "        similarity[i] = cos_similarity(word_matrix[i], query_vec)\n",
    "\n",
    "    # コサイン類似度の結果から、その値を高い順に出力\n",
    "    count = 0\n",
    "    for i in (-1 * similarity).argsort():\n",
    "        # argsort()はNumpy配列の要素を小さい順に返す。ただし、インデックスで返す。\n",
    "        # ここでは大きい順にしたいので、-1をかける。\n",
    "        if id_to_word[i] == query:\n",
    "            continue\n",
    "        print(\"%s: %s\" % (id_to_word[i], similarity[i]))\n",
    "\n",
    "        count += 1\n",
    "        if count >= top:\n",
    "            return\n"
   ]
  },
  {
   "cell_type": "code",
   "execution_count": 12,
   "metadata": {},
   "outputs": [
    {
     "name": "stdout",
     "output_type": "stream",
     "text": [
      "\n",
      "[query] you\n",
      "goodbye: 0.7071067691154799\n",
      "i: 0.7071067691154799\n",
      "hello: 0.7071067691154799\n",
      "say: 0.0\n",
      "and: 0.0\n"
     ]
    }
   ],
   "source": [
    "text = \"You say goodbye and I say hello.\"\n",
    "corpus, word_to_id, id_to_word = preprocess(text)\n",
    "vocab_size = len(word_to_id)\n",
    "C = create_co_matrix(corpus, vocab_size)\n",
    "\n",
    "most_similar(\"you\", word_to_id, id_to_word, C, top=5)\n"
   ]
  },
  {
   "cell_type": "code",
   "execution_count": 13,
   "metadata": {},
   "outputs": [],
   "source": [
    "def ppmi(C, verbose=False, eps=1e-8):\n",
    "    \"\"\"相互情報量(Pointwise Mutual Information)を算出する\n",
    "\n",
    "    Args:\n",
    "        C (_type_): 共起行列\n",
    "        verbose (bool, optional): _description_. Defaults to False.\n",
    "        eps (_type_, optional): _description_. Defaults to 1e-8.\n",
    "\n",
    "    Returns:\n",
    "        _type_: _description_\n",
    "    \"\"\"\n",
    "    M = np.zeros_like(C, dtype=np.float32)\n",
    "    # 共起行列の1の総和を計算\n",
    "    N = np.sum(C)\n",
    "    # axis=0とすることで、各列の総和を1行にまとめる。\n",
    "    S = np.sum(C, axis=0)\n",
    "    total = C.shape[0] * C.shape[1]\n",
    "    cnt = 0\n",
    "\n",
    "    for i in range(C.shape[0]):  # 行\n",
    "        for j in range(C.shape[1]):  # 列\n",
    "            # 相互情報量\n",
    "            pmi = np.log2(C[i, j] * N / (S[j] * S[i]) + eps)\n",
    "            M[i, j] = max(0, pmi)\n",
    "\n",
    "            if verbose:\n",
    "                cnt += 1\n",
    "                if cnt % (total // 100 + 1) == 0:\n",
    "                    print(\"%.1f%% done\" % (100 * cnt / total))\n",
    "    return M\n"
   ]
  },
  {
   "cell_type": "code",
   "execution_count": 14,
   "metadata": {},
   "outputs": [
    {
     "name": "stdout",
     "output_type": "stream",
     "text": [
      "convariance matrix\n",
      "[[0 1 0 0 0 0 0]\n",
      " [1 0 1 0 1 1 0]\n",
      " [0 1 0 1 0 0 0]\n",
      " [0 0 1 0 1 0 0]\n",
      " [0 1 0 1 0 0 0]\n",
      " [0 1 0 0 0 0 1]\n",
      " [0 0 0 0 0 1 0]]\n",
      "--------------------------------------------------\n",
      "PPMI\n",
      "[[0.    1.807 0.    0.    0.    0.    0.   ]\n",
      " [1.807 0.    0.807 0.    0.807 0.807 0.   ]\n",
      " [0.    0.807 0.    1.807 0.    0.    0.   ]\n",
      " [0.    0.    1.807 0.    1.807 0.    0.   ]\n",
      " [0.    0.807 0.    1.807 0.    0.    0.   ]\n",
      " [0.    0.807 0.    0.    0.    0.    2.807]\n",
      " [0.    0.    0.    0.    0.    2.807 0.   ]]\n"
     ]
    }
   ],
   "source": [
    "text = \"You say goodbye and I say hello.\"\n",
    "corpus, word_to_id, id_to_word = preprocess(text)\n",
    "vocab_size = len(word_to_id)\n",
    "C = create_co_matrix(corpus, vocab_size)\n",
    "W = ppmi(C)\n",
    "np.set_printoptions(precision=3)\n",
    "print(\"convariance matrix\")\n",
    "print(C)\n",
    "print(\"-\" * 50)\n",
    "print(\"PPMI\")\n",
    "print(W)\n"
   ]
  },
  {
   "cell_type": "code",
   "execution_count": 15,
   "metadata": {},
   "outputs": [
    {
     "name": "stdout",
     "output_type": "stream",
     "text": [
      "[1 4 2 2 2 2 1]\n",
      "14\n"
     ]
    }
   ],
   "source": [
    "S = np.sum(C, axis=0)\n",
    "print(S)\n",
    "print(np.sum(C))\n"
   ]
  },
  {
   "cell_type": "code",
   "execution_count": 16,
   "metadata": {},
   "outputs": [
    {
     "name": "stdout",
     "output_type": "stream",
     "text": [
      "[0 1 0 0 0 0 0]\n",
      "[0.    1.807 0.    0.    0.    0.    0.   ]\n",
      "[ 3.409e-01 -1.110e-16 -1.205e-01 -4.163e-16 -9.323e-01 -1.110e-16\n",
      " -2.426e-17]\n"
     ]
    }
   ],
   "source": [
    "W = ppmi(C)\n",
    "U, S, V = np.linalg.svd(W)\n",
    "print(C[0])\n",
    "print(W[0])\n",
    "print(U[0])\n"
   ]
  },
  {
   "cell_type": "code",
   "execution_count": 17,
   "metadata": {},
   "outputs": [
    {
     "data": {
      "image/png": "[encoded data removed]",
      "text/plain": [
       "<Figure size 432x288 with 1 Axes>"
      ]
     },
     "metadata": {
      "needs_background": "light"
     },
     "output_type": "display_data"
    }
   ],
   "source": [
    "from matplotlib import pyplot as plt\n",
    "\n",
    "for word, word_id in word_to_id.items():\n",
    "    plt.annotate(word, (U[word_id, 0], U[word_id, 1]))\n",
    "\n",
    "plt.scatter(U[:, 0], U[:, 1], alpha=0.5)\n",
    "plt.show()\n"
   ]
  },
  {
   "cell_type": "code",
   "execution_count": 18,
   "metadata": {},
   "outputs": [
    {
     "name": "stdout",
     "output_type": "stream",
     "text": [
      "corpus size: 929589\n",
      "corpus[:30]: [ 0  1  2  3  4  5  6  7  8  9 10 11 12 13 14 15 16 17 18 19 20 21 22 23\n",
      " 24 25 26 27 28 29]\n",
      "\n",
      "id_to_word[0]: aer\n",
      "id_to_word[1]: banknote\n",
      "id_to_word[2]: berlitz\n",
      "\n",
      "word_to_id['car'] 3856\n",
      "word_to_id['happy'] 4428\n",
      "wor_to_id['lexus'] 7426\n"
     ]
    }
   ],
   "source": [
    "from dataset import ptb\n",
    "\n",
    "corpus, word_to_id, id_to_word = ptb.load_data(\"train\")\n",
    "print(\"corpus size:\", len(corpus))\n",
    "print(\"corpus[:30]:\", corpus[:30])\n",
    "print()\n",
    "print(\"id_to_word[0]:\", id_to_word[0])\n",
    "print(\"id_to_word[1]:\", id_to_word[1])\n",
    "print(\"id_to_word[2]:\", id_to_word[2])\n",
    "print()\n",
    "print(\"word_to_id['car']\", word_to_id[\"car\"])\n",
    "print(\"word_to_id['happy']\", word_to_id[\"happy\"])\n",
    "print(\"wor_to_id['lexus']\", word_to_id[\"lexus\"])\n"
   ]
  },
  {
   "cell_type": "code",
   "execution_count": 19,
   "metadata": {},
   "outputs": [
    {
     "name": "stdout",
     "output_type": "stream",
     "text": [
      "counting co-occurrence ...\n",
      "calculating PPMI ...\n",
      "calculating SVD ...\n",
      "\n",
      "[query] you\n",
      "we: 0.6496771574020386\n",
      "i: 0.6095696091651917\n",
      "anybody: 0.5571151375770569\n",
      "do: 0.5344875454902649\n",
      "somebody: 0.5246504545211792\n",
      "\n",
      "[query] year\n",
      "month: 0.7059341073036194\n",
      "quarter: 0.6444454193115234\n",
      "last: 0.6080682873725891\n",
      "earlier: 0.5977609157562256\n",
      "next: 0.5866934657096863\n",
      "\n",
      "[query] car\n",
      "auto: 0.7008335590362549\n",
      "luxury: 0.6989321708679199\n",
      "truck: 0.5502275824546814\n",
      "corsica: 0.5256978273391724\n",
      "cars: 0.5106109380722046\n",
      "\n",
      "[query] toyota\n",
      "motor: 0.7233158349990845\n",
      "honda: 0.647767186164856\n",
      "nissan: 0.6344736218452454\n",
      "lexus: 0.6017746329307556\n",
      "motors: 0.5931701064109802\n"
     ]
    }
   ],
   "source": [
    "# ハイパーパラメータの設定\n",
    "window_size = 2\n",
    "wordvec_size = 100\n",
    "\n",
    "corpus, word_to_id, id_to_word = ptb.load_data(\"train\")\n",
    "vocab_size = len(word_to_id)\n",
    "print(\"counting co-occurrence ...\")\n",
    "C = create_co_matrix(corpus, vocab_size, window_size)\n",
    "print(\"calculating PPMI ...\")\n",
    "W = ppmi(C, verbose=False)\n",
    "\n",
    "print(\"calculating SVD ...\")\n",
    "try:\n",
    "    from sklearn.utils.extmath import randomized_svd\n",
    "    # n_components:抽出する特異値とベクトルの数\n",
    "    U, S, V = randomized_svd(W, n_components=wordvec_size,n_iter=5, random_state=None)\n",
    "except ImportError:\n",
    "    U, S, V = np.linalg.svd(W)\n",
    "\n",
    "# 密なベクトルをwordvec_sizeに次元削減する\n",
    "word_vecs = U[:, :wordvec_size]\n",
    "querys = [\"you\", \"year\", \"car\", \"toyota\"]\n",
    "for query in querys:\n",
    "    most_similar(query, word_to_id, id_to_word, word_vecs, top=5)\n"
   ]
  },
  {
   "cell_type": "code",
   "execution_count": null,
   "metadata": {},
   "outputs": [],
   "source": []
  }
 ],
 "metadata": {
  "kernelspec": {
   "display_name": "Python 3.10.4 64-bit",
   "language": "python",
   "name": "python3"
  },
  "language_info": {
   "codemirror_mode": {
    "name": "ipython",
    "version": 3
   },
   "file_extension": ".py",
   "mimetype": "text/x-python",
   "name": "python",
   "nbconvert_exporter": "python",
   "pygments_lexer": "ipython3",
   "version": "3.10.4"
  },
  "orig_nbformat": 4,
  "vscode": {
   "interpreter": {
    "hash": "916dbcbb3f70747c44a77c7bcd40155683ae19c65e1c03b4aa3499c5328201f1"
   }
  }
 },
 "nbformat": 4,
 "nbformat_minor": 2
}
